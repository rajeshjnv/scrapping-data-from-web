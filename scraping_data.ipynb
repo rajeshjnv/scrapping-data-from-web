{
 "cells": [
  {
   "cell_type": "markdown",
   "metadata": {},
   "source": [
    "# Web Scraping With Python "
   ]
  },
  {
   "cell_type": "markdown",
   "metadata": {},
   "source": [
    "In this notebook i try to extract or scrap the data from flipkart using python code"
   ]
  },
  {
   "cell_type": "code",
   "execution_count": 17,
   "metadata": {
    "collapsed": true
   },
   "outputs": [],
   "source": [
    "from bs4 import BeautifulSoup as soup\n",
    "from urllib.request import urlopen as ureq"
   ]
  },
  {
   "cell_type": "code",
   "execution_count": 2,
   "metadata": {
    "collapsed": false
   },
   "outputs": [],
   "source": [
    "myurl='https://www.flipkart.com/laptops/~buyback-guarantee-on-laptops-/pr?sid=6bo%2Cb5g&uniq'\n",
    "uc=ureq(myurl)\n",
    "ph=uc.read()\n",
    "uc.close()\n",
    "ps=soup(ph,\"html.parser\")"
   ]
  },
  {
   "cell_type": "code",
   "execution_count": 3,
   "metadata": {
    "collapsed": false
   },
   "outputs": [
    {
     "name": "stdout",
     "output_type": "stream",
     "text": [
      "5\n"
     ]
    }
   ],
   "source": [
    "ct=ps.findAll(\"div\",{\"class\":\"_3O0U0u\"})\n",
    "print(len(ct))"
   ]
  },
  {
   "cell_type": "code",
   "execution_count": 4,
   "metadata": {
    "collapsed": false
   },
   "outputs": [
    {
     "name": "stdout",
     "output_type": "stream",
     "text": [
      "<div class=\"_3O0U0u\">\n",
      " <div data-id=\"COMEVCPQBXBDFJ8C\" style=\"width:100%\">\n",
      "  <div class=\"_1UoZlX\">\n",
      "   <a class=\"_31qSD5\" href=\"/apple-macbook-air-core-i5-5th-gen-8-gb-128-gb-ssd-mac-os-sierra-mqd32hn-a-a1466/p/itmevcpqqhf6azn3?pid=COMEVCPQBXBDFJ8C&amp;srno=b_1_1&amp;otracker=browse&amp;lid=LSTCOMEVCPQBXBDFJ8C4V6AHG&amp;fm=organic&amp;iid=c4e30526-4865-47aa-ab1a-ece02b3db6d9.COMEVCPQBXBDFJ8C.SEARCH\" rel=\"noopener noreferrer\" target=\"_blank\">\n",
      "    <div class=\"_3SQWE6\">\n",
      "     <div class=\"_1OCn9C\">\n",
      "      <div>\n",
      "       <div class=\"_3BTv9X\" style=\"height:200px;width:200px\">\n",
      "        <img alt=\"Apple MacBook Air Core i5 5th Gen - (8 GB/128 GB SSD/Mac OS Sierra) MQD32HN/A A1466\" class=\"_1Nyybr\" src=\"//img1a.flixcart.com/www/linchpin/fk-cp-zion/img/placeholder_9951d0.svg\"/>\n",
      "       </div>\n",
      "      </div>\n",
      "     </div>\n",
      "     <div class=\"_2lesQu\">\n",
      "      <div class=\"_1O_CiZ\">\n",
      "       <span class=\"_1iHA1p\">\n",
      "        <div class=\"_2kFyHg\">\n",
      "         <label>\n",
      "          <input class=\"_3uUUD5\" readonly=\"\" type=\"checkbox\"/>\n",
      "          <div class=\"_1p7h2j\">\n",
      "          </div>\n",
      "         </label>\n",
      "        </div>\n",
      "       </span>\n",
      "       <label class=\"_10TB-Q\">\n",
      "        <span>\n",
      "         Add to Compare\n",
      "        </span>\n",
      "       </label>\n",
      "      </div>\n",
      "     </div>\n",
      "     <div class=\"_3gDSOa _32A6AP\">\n",
      "      <div class=\"DsQ2eg\">\n",
      "       <svg class=\"_2oLiqr\" height=\"16\" viewbox=\"0 0 20 16\" width=\"16\" xmlns=\"http://www.w3.org/2000/svg\">\n",
      "        <path class=\"_35Y7Yo\" d=\"M8.695 16.682C4.06 12.382 1 9.536 1 6.065 1 3.219 3.178 1 5.95 1c1.566 0 3.069.746 4.05 1.915C10.981 1.745 12.484 1 14.05 1 16.822 1 19 3.22 19 6.065c0 3.471-3.06 6.316-7.695 10.617L10 17.897l-1.305-1.215z\" fill=\"#2874F0\" fill-rule=\"evenodd\" opacity=\".9\" stroke=\"#FFF\">\n",
      "        </path>\n",
      "       </svg>\n",
      "      </div>\n",
      "     </div>\n",
      "    </div>\n",
      "    <div class=\"_1-2Iqu row\">\n",
      "     <div class=\"col col-7-12\">\n",
      "      <div class=\"_3wU53n\">\n",
      "       Apple MacBook Air Core i5 5th Gen - (8 GB/128 GB SSD/Mac OS Sierra) MQD32HN/A A1466\n",
      "      </div>\n",
      "      <div class=\"niH0FQ\">\n",
      "       <span class=\"_2_KrJI\" id=\"productRating_LSTCOMEVCPQBXBDFJ8C4V6AHG_COMEVCPQBXBDFJ8C_\">\n",
      "        <div class=\"hGSR34\">\n",
      "         4.7\n",
      "         <img class=\"_2lQ_WZ\" src=\"data:image/svg+xml;base64,PHN2ZyB4bWxucz0iaHR0cDovL3d3dy53My5vcmcvMjAwMC9zdmciIHdpZHRoPSIxMyIgaGVpZ2h0PSIxMiI+PHBhdGggZmlsbD0iI0ZGRiIgZD0iTTYuNSA5LjQzOWwtMy42NzQgMi4yMy45NC00LjI2LTMuMjEtMi44ODMgNC4yNTQtLjQwNEw2LjUuMTEybDEuNjkgNC4wMSA0LjI1NC40MDQtMy4yMSAyLjg4Mi45NCA0LjI2eiIvPjwvc3ZnPg==\"/>\n",
      "        </div>\n",
      "       </span>\n",
      "       <span class=\"_38sUEc\">\n",
      "        <span>\n",
      "         <span>\n",
      "          15,232 Ratings\n",
      "         </span>\n",
      "         <span class=\"_1VpSqZ\">\n",
      "          &amp;\n",
      "         </span>\n",
      "         <span>\n",
      "          1,966 Reviews\n",
      "         </span>\n",
      "        </span>\n",
      "       </span>\n",
      "      </div>\n",
      "      <div class=\"_3ULzGw\">\n",
      "       <ul class=\"vFw0gD\">\n",
      "        <li class=\"tVe95H\">\n",
      "         Intel Core i5 Processor (5th Gen)\n",
      "        </li>\n",
      "        <li class=\"tVe95H\">\n",
      "         8 GB DDR3 RAM\n",
      "        </li>\n",
      "        <li class=\"tVe95H\">\n",
      "         64 bit Mac OS Operating System\n",
      "        </li>\n",
      "        <li class=\"tVe95H\">\n",
      "         128 GB SSD\n",
      "        </li>\n",
      "        <li class=\"tVe95H\">\n",
      "         33.78 cm (13.3 inch) Display\n",
      "        </li>\n",
      "        <li class=\"tVe95H\">\n",
      "         1 Year Carry In Warranty\n",
      "        </li>\n",
      "       </ul>\n",
      "      </div>\n",
      "     </div>\n",
      "     <div class=\"col col-5-12 _2o7WAb\">\n",
      "      <div class=\"_6BWGkk\">\n",
      "       <div class=\"_1uv9Cb\">\n",
      "        <div class=\"_1vC4OE _2rQ-NK\">\n",
      "         ₹67,990\n",
      "        </div>\n",
      "        <div class=\"_3auQ3N _2GcJzG\">\n",
      "         ₹\n",
      "         <!-- -->\n",
      "         84,900\n",
      "        </div>\n",
      "        <div class=\"VGWI6T\">\n",
      "         <span>\n",
      "          19% off\n",
      "         </span>\n",
      "        </div>\n",
      "       </div>\n",
      "      </div>\n",
      "      <div class=\"_3n6o0t\">\n",
      "       <img height=\"21\" src=\"//img1a.flixcart.com/www/linchpin/fk-cp-zion/img/fa_8b4b59.png\"/>\n",
      "      </div>\n",
      "      <div class=\"_3gVem9\">\n",
      "       <span>\n",
      "        Up to\n",
      "        <span class=\"_2xjzPG\">\n",
      "         ₹7,500\n",
      "        </span>\n",
      "        Off on Exchange\n",
      "       </span>\n",
      "      </div>\n",
      "      <div class=\"_3MCpsc\">\n",
      "       EMI starting from\n",
      "       <span class=\"_1JT2XE\">\n",
      "        ₹\n",
      "        <!-- -->\n",
      "        2259\n",
      "        <!-- -->\n",
      "        /month\n",
      "       </span>\n",
      "      </div>\n",
      "      <div class=\"OPF9v4 _2WQngC\">\n",
      "       <span class=\"_1xZuAn\">\n",
      "        Offers\n",
      "       </span>\n",
      "       <ul class=\"_3U7997\">\n",
      "        <li class=\"_1ZRRx1\">\n",
      "         Special Price\n",
      "        </li>\n",
      "       </ul>\n",
      "      </div>\n",
      "     </div>\n",
      "    </div>\n",
      "   </a>\n",
      "  </div>\n",
      " </div>\n",
      "</div>\n"
     ]
    }
   ],
   "source": [
    "print(soup.prettify(ct[0]))"
   ]
  },
  {
   "cell_type": "code",
   "execution_count": 5,
   "metadata": {
    "collapsed": false
   },
   "outputs": [
    {
     "name": "stdout",
     "output_type": "stream",
     "text": [
      "Apple MacBook Air Core i5 5th Gen - (8 GB/128 GB SSD/Mac OS Sierra) MQD32HN/A A1466\n"
     ]
    }
   ],
   "source": [
    "ctr=ct[0]\n",
    "print(ctr.div.img[\"alt\"])"
   ]
  },
  {
   "cell_type": "code",
   "execution_count": 6,
   "metadata": {
    "collapsed": false
   },
   "outputs": [
    {
     "name": "stdout",
     "output_type": "stream",
     "text": [
      "₹67,990₹84,90019% offUp to ₹7,500 Off on ExchangeEMI starting from ₹2259/monthOffersSpecial Price\n"
     ]
    }
   ],
   "source": [
    "#all the details of price including discount and emi also\n",
    "price=ctr.findAll(\"div\",{\"class\":\"col col-5-12 _2o7WAb\"})\n",
    "print(price[0].text)"
   ]
  },
  {
   "cell_type": "code",
   "execution_count": 7,
   "metadata": {
    "collapsed": false
   },
   "outputs": [
    {
     "name": "stdout",
     "output_type": "stream",
     "text": [
      "4.715,232 Ratings & 1,966 Reviews\n"
     ]
    }
   ],
   "source": [
    "ratings=ctr.findAll(\"div\",{\"class\":\"niH0FQ\"})\n",
    "print(ratings[0].text)"
   ]
  },
  {
   "cell_type": "code",
   "execution_count": 9,
   "metadata": {
    "collapsed": false
   },
   "outputs": [],
   "source": [
    "file=\"product.csv\"\n",
    "f=open(file,\"w\")"
   ]
  },
  {
   "cell_type": "code",
   "execution_count": 10,
   "metadata": {
    "collapsed": false
   },
   "outputs": [
    {
     "data": {
      "text/plain": [
       "30"
      ]
     },
     "execution_count": 10,
     "metadata": {},
     "output_type": "execute_result"
    }
   ],
   "source": [
    "header='product_name,pricing,ratings \\n'\n",
    "f.write(header)"
   ]
  },
  {
   "cell_type": "code",
   "execution_count": 13,
   "metadata": {
    "collapsed": false
   },
   "outputs": [
    {
     "name": "stdout",
     "output_type": "stream",
     "text": [
      "Apple MacBook Air Core i5 5th Gen - (8 GB/128 GB SSD/Mac OS Sierra) MQD32HN/A A1466,Rs.67990,4.715,232\n",
      "\n",
      "Lenovo Core i5 7th Gen - (8 GB/2 TB HDD/Windows 10 Home/4 GB Graphics) IP 520 Laptop,Rs.75500,4.4244\n",
      "\n",
      "Lenovo Core i3 6th Gen - (4 GB/1 TB HDD/Windows 10 Home) IP 320E Laptop,Rs.30550,42,543\n",
      "\n",
      "Lenovo Core i5 7th Gen - (8 GB/1 TB HDD/DOS/2 GB Graphics) IP 320-15IKB Laptop,Rs.52990,4.312,850\n",
      "\n",
      "Lenovo Ideapad Core i3 6th Gen - (4 GB/1 TB HDD/DOS) IP 320E Laptop,Rs.32990,4.16,084\n",
      "\n"
     ]
    }
   ],
   "source": [
    "for ctr in ct:\n",
    "    product_name=ctr.div.img[\"alt\"]\n",
    "    pc=ctr.findAll(\"div\",{\"class\":\"col col-5-12 _2o7WAb\"})\n",
    "    pricing=pc[0].text.strip()\n",
    "    rc=ctr.findAll(\"div\",{\"class\":\"niH0FQ\"})\n",
    "    ratings=rc[0].text\n",
    "    #print('product_name : '+ product_name)\n",
    "    #print('pricing : '+ pricing)\n",
    "    #print('ratings : '+ ratings)\n",
    "    tp=''.join(pricing.split(','))\n",
    "    rp=tp.split('₹')\n",
    "    arp='Rs.'+rp[1]\n",
    "    sp=arp.split('E')\n",
    "    fp=sp[0]\n",
    "    sr=ratings.split(' ')\n",
    "    fr=sr[0]\n",
    "    print(product_name.replace(',','|')+','+fp+','+fr+'\\n')\n",
    "    f.write(product_name.replace(',','|')+','+fp+','+fr+'\\n')"
   ]
  },
  {
   "cell_type": "code",
   "execution_count": 15,
   "metadata": {
    "collapsed": true
   },
   "outputs": [],
   "source": [
    "f.close()"
   ]
  },
  {
   "cell_type": "code",
   "execution_count": null,
   "metadata": {
    "collapsed": true
   },
   "outputs": [],
   "source": []
  }
 ],
 "metadata": {
  "kernelspec": {
   "display_name": "Python 3",
   "language": "python",
   "name": "python3"
  },
  "language_info": {
   "codemirror_mode": {
    "name": "ipython",
    "version": 3
   },
   "file_extension": ".py",
   "mimetype": "text/x-python",
   "name": "python",
   "nbconvert_exporter": "python",
   "pygments_lexer": "ipython3",
   "version": "3.6.8"
  }
 },
 "nbformat": 4,
 "nbformat_minor": 2
}
